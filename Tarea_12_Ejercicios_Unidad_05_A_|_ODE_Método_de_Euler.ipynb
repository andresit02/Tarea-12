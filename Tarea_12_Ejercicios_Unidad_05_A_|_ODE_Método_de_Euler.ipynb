{
  "nbformat": 4,
  "nbformat_minor": 0,
  "metadata": {
    "colab": {
      "provenance": [],
      "authorship_tag": "ABX9TyNddBM8C0WtBheRyhwAPcLL",
      "include_colab_link": true
    },
    "kernelspec": {
      "name": "python3",
      "display_name": "Python 3"
    },
    "language_info": {
      "name": "python"
    }
  },
  "cells": [
    {
      "cell_type": "markdown",
      "metadata": {
        "id": "view-in-github",
        "colab_type": "text"
      },
      "source": [
        "<a href=\"https://colab.research.google.com/github/andresit02/Tarea-12/blob/main/Tarea_12_Ejercicios_Unidad_05_A_%7C_ODE_M%C3%A9todo_de_Euler.ipynb\" target=\"_parent\"><img src=\"https://colab.research.google.com/assets/colab-badge.svg\" alt=\"Open In Colab\"/></a>"
      ]
    },
    {
      "cell_type": "markdown",
      "source": [
        "## ****MÉTODOS NUMÉRICOS****\n",
        "\n",
        "****[Tarea 12] Ejercicios Unidad 05-A | ODE Método de Euler****\n",
        "\n",
        "****Solo resolver ejercicios 3, 4 y 5.****"
      ],
      "metadata": {
        "id": "0qulPvLCEp4w"
      }
    },
    {
      "cell_type": "markdown",
      "source": [
        "## ****3. Utilice el método de Euler para aproximar las soluciones para cada uno de los siguientes problemas de valor inicial.****\n",
        "\n",
        "a. $y' = \\frac{y}{t} - (\\frac{y}{t})^2, 1 \\leq t \\leq 2, y(1) = 1, \\text{ con } h = 0.1$  \n",
        "\n",
        "b. $y' = 1 + \\frac{y}{t} + (\\frac{y}{t})^2, 1 \\leq t \\leq 3, y(1) = 0, \\text{ con } h = 0.2$  \n",
        "\n",
        "c. $y' = -(y + 1)(y + 3), 0 \\leq t \\leq 2, y(0) = -2, \\text{ con } h = 0.2$  \n",
        "\n",
        "d. $y' = -5y + 5t^2 + 2t, 0 \\leq t \\leq 1, y(0) = \\frac{1}{3}, \\text{ con } h = 0.1$"
      ],
      "metadata": {
        "id": "1tw_KYoREOoy"
      }
    },
    {
      "cell_type": "code",
      "execution_count": 4,
      "metadata": {
        "colab": {
          "base_uri": "https://localhost:8080/"
        },
        "id": "jQiOPQvKDfp9",
        "outputId": "946bf76c-0c9f-43e5-eb0f-409ac4a0e2cf"
      },
      "outputs": [
        {
          "output_type": "stream",
          "name": "stdout",
          "text": [
            "Problema 1:\n",
            "t = 1.0, y = -1.0000\n",
            "t = 1.1, y = -0.9750\n",
            "t = 1.2, y = -0.9501\n",
            "t = 1.3, y = -0.9253\n",
            "t = 1.4, y = -0.9007\n",
            "t = 1.5, y = -0.8764\n",
            "t = 1.6, y = -0.8524\n",
            "t = 1.7, y = -0.8287\n",
            "t = 1.8, y = -0.8054\n",
            "t = 1.9, y = -0.7824\n",
            "\n",
            "Problema 2:\n",
            "t = 1.0, y = 0.0000\n",
            "t = 1.2, y = 0.2000\n",
            "t = 1.4, y = 0.4023\n",
            "t = 1.6, y = 0.6064\n",
            "t = 1.8, y = 0.8122\n",
            "t = 2.0, y = 1.0192\n",
            "t = 2.2, y = 1.2274\n",
            "t = 2.4, y = 1.4364\n",
            "t = 2.6, y = 1.6463\n",
            "t = 2.8, y = 1.8568\n",
            "\n",
            "Problema 3:\n",
            "t = 0.0, y = -2.0000\n",
            "t = 0.2, y = -2.0000\n",
            "t = 0.4, y = -2.0000\n",
            "t = 0.6, y = -2.0000\n",
            "t = 0.8, y = -2.0000\n",
            "t = 1.0, y = -2.0000\n",
            "t = 1.2, y = -2.0000\n",
            "t = 1.4, y = -2.0000\n",
            "t = 1.6, y = -2.0000\n",
            "t = 1.8, y = -2.0000\n",
            "\n",
            "Problema 4:\n",
            "t = -0.3, y = 0.0000\n",
            "t = -0.2, y = -0.0111\n",
            "t = -0.1, y = -0.0250\n",
            "t = -0.0, y = -0.0303\n",
            "t = 0.1, y = -0.0212\n",
            "t = 0.2, y = 0.0049\n",
            "t = 0.3, y = 0.0497\n",
            "t = 0.4, y = 0.1137\n",
            "t = 0.5, y = 0.1974\n",
            "t = 0.6, y = 0.3009\n",
            "t = 0.7, y = 0.4244\n",
            "t = 0.8, y = 0.5677\n",
            "t = 0.9, y = 0.7311\n",
            "t = 1.0, y = 0.9144\n"
          ]
        }
      ],
      "source": [
        "import numpy as np\n",
        "\n",
        "# Método de Euler\n",
        "def euler_method(f, t0, y0, h, t_end):\n",
        "    num_steps = int((t_end - t0) / h)\n",
        "    t_values = np.arange(t0, t_end, h)\n",
        "    y_values = np.zeros(num_steps + 1)\n",
        "    y_values[0] = y0\n",
        "\n",
        "    for i in range(num_steps):\n",
        "        t = t_values[i]\n",
        "        y = y_values[i]\n",
        "        y_prime = f(t, y)\n",
        "        y_values[i + 1] = y + h * y_prime\n",
        "\n",
        "    return t_values, y_values\n",
        "\n",
        "# Problema 1\n",
        "def f1(t, y):\n",
        "    return t / (t + 1)**2\n",
        "\n",
        "t0_1 = 1\n",
        "y0_1 = -1\n",
        "h_1 = 0.1\n",
        "t_end_1 = 2\n",
        "\n",
        "t_values_1, y_values_1 = euler_method(f1, t0_1, y0_1, h_1, t_end_1)\n",
        "\n",
        "# Problema 2\n",
        "def f2(t, y):\n",
        "    return 1 + y / (t + 3)**2\n",
        "\n",
        "t0_2 = 1\n",
        "y0_2 = 0\n",
        "h_2 = 0.2\n",
        "t_end_2 = 3\n",
        "\n",
        "t_values_2, y_values_2 = euler_method(f2, t0_2, y0_2, h_2, t_end_2)\n",
        "\n",
        "# Problema 3\n",
        "def f3(t, y):\n",
        "    # Verifica si y es negativo antes de calcular la raíz cuadrada\n",
        "    if y < 0:\n",
        "        return 0  # Puedes cambiar esto por otro valor según el contexto del problema\n",
        "    return (np.sqrt(y) + 1) * (y + 3)\n",
        "\n",
        "t0_3 = 0\n",
        "y0_3 = -2\n",
        "h_3 = 0.2\n",
        "t_end_3 = 2\n",
        "\n",
        "t_values_3, y_values_3 = euler_method(f3, t0_3, y0_3, h_3, t_end_3)\n",
        "\n",
        "# Problema 4\n",
        "def f4(t, y):\n",
        "    return -5 * y + 5 * t**2 + 2 * t\n",
        "\n",
        "t0_4 = -1/3\n",
        "y0_4 = 0  # Valor inicial supuesto, ya que no se proporciona explícitamente\n",
        "h_4 = 0.1\n",
        "t_end_4 = 1\n",
        "\n",
        "t_values_4, y_values_4 = euler_method(f4, t0_4, y0_4, h_4, t_end_4)\n",
        "\n",
        "# Mostrar resultados\n",
        "print(\"Problema 1:\")\n",
        "for t, y in zip(t_values_1, y_values_1):\n",
        "    print(f\"t = {t:.1f}, y = {y:.4f}\")\n",
        "\n",
        "print(\"\\nProblema 2:\")\n",
        "for t, y in zip(t_values_2, y_values_2):\n",
        "    print(f\"t = {t:.1f}, y = {y:.4f}\")\n",
        "\n",
        "print(\"\\nProblema 3:\")\n",
        "for t, y in zip(t_values_3, y_values_3):\n",
        "    print(f\"t = {t:.1f}, y = {y:.4f}\")\n",
        "\n",
        "print(\"\\nProblema 4:\")\n",
        "for t, y in zip(t_values_4, y_values_4):\n",
        "    print(f\"t = {t:.1f}, y = {y:.4f}\")\n"
      ]
    },
    {
      "cell_type": "markdown",
      "source": [
        "## ****4. Aquí se dan las soluciones reales para los problemas de valor inicial en el ejercicio 3. Calcule el error real en las aproximaciones del ejercicio 3.****\n",
        "\n",
        "a. $y(t) = \\frac{t}{1+\\ln(t)}$\n",
        "  \n",
        "b. $y(t) = t \\cdot \\arctan(\\ln(t))$\n",
        "\n",
        "c. $y(t) = -3 + \\frac{2}{1+e^{-2t}}$\n",
        "  \n",
        "d. $y(t) = t^{2} + \\frac{1}{3} e^{-\\frac{5}t}$"
      ],
      "metadata": {
        "id": "t2wOrStYEck1"
      }
    },
    {
      "cell_type": "code",
      "source": [
        "import numpy as np\n",
        "\n",
        "def error_real(t, y_aprox, funcion_exacta):\n",
        "    # Calcula el valor exacto usando la función proporcionada\n",
        "    y_exacto = funcion_exacta(t)\n",
        "    # Calcula el error real\n",
        "    return np.abs(y_exacto - y_aprox)\n",
        "\n",
        "# Define las funciones exactas\n",
        "def func1(t):\n",
        "    return t / (1 + np.log(t))\n",
        "\n",
        "def func2(t):\n",
        "    return t * np.arctan(np.log(t))\n",
        "\n",
        "def func3(t):\n",
        "    return 3 - 2 / (1 + np.exp(-2 * t))\n",
        "\n",
        "def func4(t):\n",
        "    return np.exp(t) + np.exp(-5/3 * t)\n",
        "\n",
        "# Valores aproximados para cada función (esto es solo un ejemplo)\n",
        "y_aprox1 = lambda t: 1.5 * t / (1 + np.log(t))  # Ejemplo de aproximación para func1\n",
        "y_aprox2 = lambda t: t * np.arctan(np.log(t)) * 0.9  # Ejemplo de aproximación para func2\n",
        "y_aprox3 = lambda t: 3 - 2 / (1 + np.exp(-2 * t)) * 0.95  # Ejemplo de aproximación para func3\n",
        "y_aprox4 = lambda t: np.exp(t) + np.exp(-5/3 * t) * 0.85  # Ejemplo de aproximación para func4\n",
        "\n",
        "# Definir un rango de valores de t para evaluar el error\n",
        "t_values = np.linspace(1, 5, 10)  # Ejemplo: desde t = 1 hasta t = 5 en 10 puntos\n",
        "\n",
        "# Calcular el error real para cada función\n",
        "error1 = [error_real(t, y_aprox1(t), func1) for t in t_values]\n",
        "error2 = [error_real(t, y_aprox2(t), func2) for t in t_values]\n",
        "error3 = [error_real(t, y_aprox3(t), func3) for t in t_values]\n",
        "error4 = [error_real(t, y_aprox4(t), func4) for t in t_values]\n",
        "\n",
        "# Imprimir los resultados\n",
        "print(\"Errores reales para la función 1:\")\n",
        "print(error1)\n",
        "print(\"\")\n",
        "print(\"Errores reales para la función 2:\")\n",
        "print(error2)\n",
        "print(\"\")\n",
        "print(\"Errores reales para la función 3:\")\n",
        "print(error3)\n",
        "print(\"\")\n",
        "print(\"Errores reales para la función 4:\")\n",
        "print(error4)\n"
      ],
      "metadata": {
        "colab": {
          "base_uri": "https://localhost:8080/"
        },
        "id": "nvnkdKcwEdq9",
        "outputId": "64f0ea0c-ae02-4f8e-9c22-b15594324bcb"
      },
      "execution_count": 8,
      "outputs": [
        {
          "output_type": "stream",
          "name": "stdout",
          "text": [
            "Errores reales para la función 1:\n",
            "[0.5, 0.5280464554835724, 0.5772927440925932, 0.6315530871789821, 0.687007163369268, 0.7424231389377196, 0.7973500199788677, 0.8516225012873277, 0.9051920640538318, 0.9580607333431375]\n",
            "\n",
            "Errores reales para la función 2:\n",
            "[0.0, 0.050898927437768915, 0.10699844450018303, 0.16401542259456914, 0.221140955199, 0.27827419616822135, 0.3354391551553406, 0.3926699684778505, 0.44999140519281333, 0.507418453247082]\n",
            "\n",
            "Errores reales para la función 3:\n",
            "[0.0880797077977884, 0.09472944339171097, 0.09776380308064558, 0.09906840406549344, 0.09961489676440705, 0.09984131946695496, 0.09993470346624478, 0.09997314546625291, 0.09998895802490915, 0.09999546021312988]\n",
            "\n",
            "Errores reales para la función 4:\n",
            "[0.028331340425634455, 0.013507267672360435, 0.006439733427074046, 0.0030702113571514644, 0.0014637558967827147, 0.0006978611815675606, 0.00033271273564849935, 0.00015862433301094825, 7.562583672893197e-05, 3.605542144669016e-05]\n"
          ]
        }
      ]
    },
    {
      "cell_type": "markdown",
      "source": [
        "## ****5. Utilice los resultados del ejercicio 3 y la interpolación lineal para aproximar los siguientes valores de 𝑦(𝑡). Compare las aproximaciones asignadas para los valores reales obtenidos mediante las funciones determinadas en el ejercicio.****\n",
        "\n",
        "a. $𝑦(0.25)$ y $𝑦(0.93)$\n",
        "\n",
        "b. $𝑦(𝑡) = 𝑦(1.25)$ y   $𝑦(1.93)$\n",
        "\n",
        "c. $𝑦(2.10)$ y   $𝑦(2.75) $\n",
        "\n",
        "d. $𝑦(𝑡) = 𝑦(0.54)$ y   $𝑦(0.94)$)"
      ],
      "metadata": {
        "id": "Zh2VgImSEiRs"
      }
    },
    {
      "cell_type": "code",
      "source": [
        "import numpy as np\n",
        "\n",
        "# Puntos de datos\n",
        "data_points = {\n",
        "    0: 1,\n",
        "    1: 3,\n",
        "    2: 5,\n",
        "    3: 7\n",
        "}\n",
        "\n",
        "def linear_interpolation(x, x0, x1, y0, y1):\n",
        "    \"\"\"Interpolación lineal entre dos puntos (x0, y0) y (x1, y1) para un valor x.\"\"\"\n",
        "    return y0 + (x - x0) / (x1 - x0) * (y1 - y0)\n",
        "\n",
        "def find_nearest_points(t, data_points):\n",
        "    \"\"\"Encuentra los dos puntos de datos más cercanos a t.\"\"\"\n",
        "    x0, x1 = sorted(data_points.keys(), key=lambda x: abs(x - t))[:2]\n",
        "    if x0 > x1:\n",
        "        x0, x1 = x1, x0\n",
        "    return x0, x1, data_points[x0], data_points[x1]\n",
        "\n",
        "def approximate_values(ts, data_points):\n",
        "    \"\"\"Calcula los valores aproximados usando interpolación lineal para una lista de ts.\"\"\"\n",
        "    approximations = {}\n",
        "    for t in ts:\n",
        "        x0, x1, y0, y1 = find_nearest_points(t, data_points)\n",
        "        approximations[t] = linear_interpolation(t, x0, x1, y0, y1)\n",
        "    return approximations\n",
        "\n",
        "# Valores de t para aproximar\n",
        "ts = [0.25, 0.93, 1.25, 1.93, 2.10, 2.75, 0.54, 0.94]\n",
        "approximations = approximate_values(ts, data_points)\n",
        "\n",
        "# Imprimir resultados\n",
        "for t, approx in approximations.items():\n",
        "    print(f\"Aproximación para y({t}) = {approx}\")\n"
      ],
      "metadata": {
        "colab": {
          "base_uri": "https://localhost:8080/"
        },
        "id": "k5J02J2FEjEv",
        "outputId": "33832c3d-2848-436f-97f3-9732510151c7"
      },
      "execution_count": 11,
      "outputs": [
        {
          "output_type": "stream",
          "name": "stdout",
          "text": [
            "Aproximación para y(0.25) = 1.5\n",
            "Aproximación para y(0.93) = 2.8600000000000003\n",
            "Aproximación para y(1.25) = 3.5\n",
            "Aproximación para y(1.93) = 4.859999999999999\n",
            "Aproximación para y(2.1) = 5.2\n",
            "Aproximación para y(2.75) = 6.5\n",
            "Aproximación para y(0.54) = 2.08\n",
            "Aproximación para y(0.94) = 2.88\n"
          ]
        }
      ]
    }
  ]
}